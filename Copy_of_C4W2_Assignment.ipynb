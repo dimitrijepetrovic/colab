{
  "nbformat": 4,
  "nbformat_minor": 0,
  "metadata": {
    "accelerator": "GPU",
    "kernelspec": {
      "display_name": "Python 3",
      "language": "python",
      "name": "python3"
    },
    "language_info": {
      "codemirror_mode": {
        "name": "ipython",
        "version": 3
      },
      "file_extension": ".py",
      "mimetype": "text/x-python",
      "name": "python",
      "nbconvert_exporter": "python",
      "pygments_lexer": "ipython3",
      "version": "3.7.4"
    },
    "colab": {
      "name": "Copy of C4W2_Assignment.ipynb",
      "provenance": [],
      "collapsed_sections": [],
      "include_colab_link": true
    }
  },
  "cells": [
    {
      "cell_type": "markdown",
      "metadata": {
        "id": "view-in-github",
        "colab_type": "text"
      },
      "source": [
        "<a href=\"https://colab.research.google.com/github/dimitrijepetrovic/colab/blob/main/Copy_of_C4W2_Assignment.ipynb\" target=\"_parent\"><img src=\"https://colab.research.google.com/assets/colab-badge.svg\" alt=\"Open In Colab\"/></a>"
      ]
    },
    {
      "cell_type": "markdown",
      "metadata": {
        "id": "L6S2HVAkSt0p"
      },
      "source": [
        "# Week 2 Assignment: CIFAR-10 Autoencoder\n",
        "\n",
        "For this week, you will create a convolutional autoencoder for the [CIFAR10](https://www.tensorflow.org/datasets/catalog/cifar10) dataset. You are free to choose the architecture of your autoencoder provided that the output image has the same dimensions as the input image.\n",
        "\n",
        "After training, your model should meet loss and accuracy requirements when evaluated with the test dataset. You will then download the model and upload it in the classroom for grading. \n",
        "\n",
        "Let's begin!"
      ]
    },
    {
      "cell_type": "markdown",
      "metadata": {
        "id": "6r4iPr2jyisR"
      },
      "source": [
        "***Important:*** *This colab notebook has read-only access so you won't be able to save your changes. If you want to save your work periodically, please click `File -> Save a Copy in Drive` to create a copy in your account, then work from there.*  "
      ]
    },
    {
      "cell_type": "markdown",
      "metadata": {
        "id": "g1mzy2J8_nc1"
      },
      "source": [
        "## Imports"
      ]
    },
    {
      "cell_type": "code",
      "metadata": {
        "id": "3EXwoz-KHtWO"
      },
      "source": [
        "try:\n",
        "  # %tensorflow_version only exists in Colab.\n",
        "  %tensorflow_version 2.x\n",
        "except Exception:\n",
        "  pass\n",
        "\n",
        "import tensorflow as tf\n",
        "import tensorflow_datasets as tfds\n",
        "\n",
        "from keras.models import Sequential"
      ],
      "execution_count": 1,
      "outputs": []
    },
    {
      "cell_type": "markdown",
      "metadata": {
        "id": "n2Gs6Lyc_pd0"
      },
      "source": [
        "## Load and prepare the dataset\n",
        "\n",
        "The [CIFAR 10](https://www.tensorflow.org/datasets/catalog/cifar10) dataset already has train and test splits and you can use those in this exercise. Here are the general steps:\n",
        "\n",
        "* Load the train/test split from TFDS. Set `as_supervised` to `True` so it will be convenient to use the preprocessing function we provided.\n",
        "* Normalize the pixel values to the range [0,1], then return `image, image` pairs for training instead of `image, label`. This is because you will check if the output image is successfully regenerated after going through your autoencoder.\n",
        "* Shuffle and batch the train set. Batch the test set (no need to shuffle).\n"
      ]
    },
    {
      "cell_type": "code",
      "metadata": {
        "id": "t9F7YsCNIKSA"
      },
      "source": [
        "# preprocessing function\n",
        "def map_image(image, label):\n",
        "  image = tf.cast(image, dtype=tf.float32)\n",
        "  image = image / 255.0\n",
        "\n",
        "  return image, image # dataset label is not used. replaced with the same image input.\n",
        "\n",
        "# parameters\n",
        "BATCH_SIZE = 128\n",
        "SHUFFLE_BUFFER_SIZE = 1024\n",
        "\n",
        "\n",
        "### START CODE HERE (Replace instances of `None` with your code) ###\n",
        "\n",
        "# use tfds.load() to fetch the 'train' split of CIFAR-10\n",
        "train_dataset = tfds.load('cifar10', as_supervised=True, split='train')\n",
        "\n",
        "# preprocess the dataset with the `map_image()` function above\n",
        "train_dataset = train_dataset.map(map_func=map_image)\n",
        "\n",
        "# shuffle and batch the dataset\n",
        "train_dataset = train_dataset.shuffle(buffer_size=SHUFFLE_BUFFER_SIZE)\n",
        "train_dataset = train_dataset.batch(batch_size=BATCH_SIZE)\n",
        "\n",
        "# use tfds.load() to fetch the 'test' split of CIFAR-10\n",
        "test_dataset = tfds.load('cifar10', as_supervised=True, split='test')\n",
        "\n",
        "# preprocess the dataset with the `map_image()` function above\n",
        "test_dataset = test_dataset.map(map_func=map_image)\n",
        "\n",
        "# batch the dataset\n",
        "test_dataset = test_dataset.batch(batch_size=BATCH_SIZE)\n",
        "\n",
        "### END CODE HERE ###"
      ],
      "execution_count": 10,
      "outputs": []
    },
    {
      "cell_type": "code",
      "metadata": {
        "id": "Cb85AwdrWS_T"
      },
      "source": [
        "# test_dataset = tfds.load('cifar10', as_supervised=True, split='test')\n",
        "# test_dataset = test_dataset =  test_dataset.map(map_func=map_image)\n",
        "# test_dataset = test_dataset.shuffle(buffer_size=SHUFFLE_BUFFER_SIZE)\n",
        "\n",
        "# test_dataset = train_dataset.batch(batch_size=BATCH_SIZE)"
      ],
      "execution_count": 3,
      "outputs": []
    },
    {
      "cell_type": "markdown",
      "metadata": {
        "id": "rPyOgGJs_t98"
      },
      "source": [
        "## Build the Model\n",
        "\n",
        "Create the autoencoder model. As shown in the lectures, you will want to downsample the image in the encoder layers then upsample it in the decoder path. Note that the output layer should be the same dimensions as the original image. Your input images will have the shape `(32, 32, 3)`. If you deviate from this, your model may not be recognized by the grader and may fail. \n",
        "\n",
        "We included a few hints to use the Sequential API below but feel free to remove it and use the Functional API just like in the ungraded labs if you're more comfortable with it. Another reason to use the latter is if you want to visualize the encoder output. As shown in the ungraded labs, it will be easier to indicate multiple outputs with the Functional API. That is not required for this assignment though so you can just stack layers sequentially if you want a simpler solution."
      ]
    },
    {
      "cell_type": "code",
      "metadata": {
        "id": "Wr-Bok3lRgA3",
        "colab": {
          "base_uri": "https://localhost:8080/"
        },
        "outputId": "93c1143b-7126-45ae-832b-ad95f7998dac"
      },
      "source": [
        "# suggested layers to use. feel free to add or remove as you see fit.\n",
        "from keras.layers import Conv2D, UpSampling2D\n",
        "\n",
        "# use the Sequential API (you can remove if you want to use the Functional API)\n",
        "# model = Sequential()\n",
        "\n",
        "### START CODE HERE ###\n",
        "# use `model.add()` to add layers (if using the Sequential API)\n",
        "def encoder(inputs):\n",
        "  '''Defines the encoder with two Conv2D and max pooling layers.'''\n",
        "  conv_1 = tf.keras.layers.Conv2D(filters=64, kernel_size=(3,3), activation='relu', padding='same')(inputs)\n",
        "  max_pool_1 = tf.keras.layers.MaxPooling2D(pool_size=(2,2))(conv_1)\n",
        "\n",
        "  conv_2 = tf.keras.layers.Conv2D(filters=128, kernel_size=(3,3), activation='relu', padding='same')(max_pool_1)\n",
        "  max_pool_2 = tf.keras.layers.MaxPooling2D(pool_size=(2,2))(conv_2)\n",
        "\n",
        "  return max_pool_2\n",
        "\n",
        "def bottle_neck(inputs):\n",
        "  '''Defines the bottleneck.'''\n",
        "  bottle_neck = tf.keras.layers.Conv2D(filters=256, kernel_size=(3,3), activation='relu', padding='same')(inputs)\n",
        "  encoder_visualization = tf.keras.layers.Conv2D(filters=3, kernel_size=(3,3), activation='sigmoid', padding='same')(bottle_neck)\n",
        "\n",
        "  return bottle_neck, encoder_visualization\n",
        "\n",
        "def decoder(inputs):\n",
        "  '''Defines the decoder path to upsample back to the original image size.'''\n",
        "  conv_1 = tf.keras.layers.Conv2D(filters=128, kernel_size=(3,3), activation='relu', padding='same')(inputs)\n",
        "  up_sample_1 = tf.keras.layers.UpSampling2D(size=(2,2))(conv_1)\n",
        "\n",
        "  conv_2 = tf.keras.layers.Conv2D(filters=64, kernel_size=(3,3), activation='relu', padding='same')(up_sample_1)\n",
        "  up_sample_2 = tf.keras.layers.UpSampling2D(size=(2,2))(conv_2)\n",
        "\n",
        "  conv_3 = tf.keras.layers.Conv2D(filters=3, kernel_size=(3,3), activation='sigmoid', padding='same')(up_sample_2)\n",
        "\n",
        "  return conv_3\n",
        "\n",
        "def convolutional_auto_encoder():\n",
        "  '''Builds the entire autoencoder model.'''\n",
        "  inputs = tf.keras.layers.Input(shape=(32, 32, 3))\n",
        "  encoder_output = encoder(inputs)\n",
        "  bottleneck_output, encoder_visualization = bottle_neck(encoder_output)\n",
        "  decoder_output = decoder(bottleneck_output)\n",
        "  \n",
        "  model = tf.keras.Model(inputs=inputs, outputs=decoder_output)\n",
        "  encoder_model = tf.keras.Model(inputs=inputs, outputs=encoder_visualization)\n",
        "  return model, encoder_model\n",
        "\n",
        "\n",
        "### END CODE HERE ###\n",
        "model, convolutional_encoder_model = convolutional_auto_encoder()\n",
        "# convolutional_model.summary()\n",
        "model.summary()"
      ],
      "execution_count": 4,
      "outputs": [
        {
          "output_type": "stream",
          "text": [
            "Model: \"model\"\n",
            "_________________________________________________________________\n",
            "Layer (type)                 Output Shape              Param #   \n",
            "=================================================================\n",
            "input_1 (InputLayer)         [(None, 32, 32, 3)]       0         \n",
            "_________________________________________________________________\n",
            "conv2d (Conv2D)              (None, 32, 32, 64)        1792      \n",
            "_________________________________________________________________\n",
            "max_pooling2d (MaxPooling2D) (None, 16, 16, 64)        0         \n",
            "_________________________________________________________________\n",
            "conv2d_1 (Conv2D)            (None, 16, 16, 128)       73856     \n",
            "_________________________________________________________________\n",
            "max_pooling2d_1 (MaxPooling2 (None, 8, 8, 128)         0         \n",
            "_________________________________________________________________\n",
            "conv2d_2 (Conv2D)            (None, 8, 8, 256)         295168    \n",
            "_________________________________________________________________\n",
            "conv2d_4 (Conv2D)            (None, 8, 8, 128)         295040    \n",
            "_________________________________________________________________\n",
            "up_sampling2d (UpSampling2D) (None, 16, 16, 128)       0         \n",
            "_________________________________________________________________\n",
            "conv2d_5 (Conv2D)            (None, 16, 16, 64)        73792     \n",
            "_________________________________________________________________\n",
            "up_sampling2d_1 (UpSampling2 (None, 32, 32, 64)        0         \n",
            "_________________________________________________________________\n",
            "conv2d_6 (Conv2D)            (None, 32, 32, 3)         1731      \n",
            "=================================================================\n",
            "Total params: 741,379\n",
            "Trainable params: 741,379\n",
            "Non-trainable params: 0\n",
            "_________________________________________________________________\n"
          ],
          "name": "stdout"
        }
      ]
    },
    {
      "cell_type": "code",
      "metadata": {
        "id": "3o1RwlAdeV1E"
      },
      "source": [
        "# convolutional_encoder_model.summary()"
      ],
      "execution_count": 5,
      "outputs": []
    },
    {
      "cell_type": "markdown",
      "metadata": {
        "id": "jRWTAijKEVUC"
      },
      "source": [
        "## Configure training parameters\n",
        "\n",
        "We have already provided the optimizer, metrics, and loss in the code below."
      ]
    },
    {
      "cell_type": "code",
      "metadata": {
        "id": "iHIeD9eDETSk"
      },
      "source": [
        "# Please do not change the model.compile() parameters\n",
        "model.compile(optimizer='adam', metrics=['accuracy'], loss='mean_squared_error')"
      ],
      "execution_count": 6,
      "outputs": []
    },
    {
      "cell_type": "markdown",
      "metadata": {
        "id": "tLQPhm1W_8dC"
      },
      "source": [
        "## Training\n",
        "\n",
        "You can now use [model.fit()](https://keras.io/api/models/model_training_apis/#fit-method) to train your model. You will pass in the `train_dataset` and you are free to configure the other parameters. As with any training, you should see the loss generally going down and the accuracy going up with each epoch. If not, please revisit the previous sections to find possible bugs.\n",
        "\n",
        "*Note: If you get a `dataset length is infinite` error. Please check how you defined `train_dataset`. You might have included a [method that repeats the dataset indefinitely](https://www.tensorflow.org/api_docs/python/tf/data/Dataset#repeat).*"
      ]
    },
    {
      "cell_type": "code",
      "metadata": {
        "id": "AMBimOnsRvg0",
        "colab": {
          "base_uri": "https://localhost:8080/"
        },
        "outputId": "20dd9a84-d5b3-4e58-aa80-9a47654c2703"
      },
      "source": [
        "# parameters (feel free to change this)\n",
        "train_steps = len(train_dataset) // BATCH_SIZE \n",
        "val_steps = len(test_dataset) // BATCH_SIZE\n",
        "\n",
        "### START CODE HERE ###\n",
        "model.fit(train_dataset, steps_per_epoch=train_steps, validation_data=test_dataset, validation_steps=val_steps, epochs=40)\n",
        "### END CODE HERE ###"
      ],
      "execution_count": 7,
      "outputs": [
        {
          "output_type": "stream",
          "text": [
            "Epoch 1/40\n",
            "3/3 [==============================] - 3s 158ms/step - loss: 0.0630 - accuracy: 0.3422\n",
            "Epoch 2/40\n",
            "3/3 [==============================] - 0s 46ms/step - loss: 0.0592 - accuracy: 0.3535\n",
            "Epoch 3/40\n",
            "3/3 [==============================] - 0s 47ms/step - loss: 0.0527 - accuracy: 0.4207\n",
            "Epoch 4/40\n",
            "3/3 [==============================] - 0s 42ms/step - loss: 0.0459 - accuracy: 0.5171\n",
            "Epoch 5/40\n",
            "3/3 [==============================] - 0s 43ms/step - loss: 0.0429 - accuracy: 0.4379\n",
            "Epoch 6/40\n",
            "3/3 [==============================] - 0s 38ms/step - loss: 0.0383 - accuracy: 0.4012\n",
            "Epoch 7/40\n",
            "3/3 [==============================] - 0s 40ms/step - loss: 0.0321 - accuracy: 0.4569\n",
            "Epoch 8/40\n",
            "3/3 [==============================] - 0s 41ms/step - loss: 0.0282 - accuracy: 0.5067\n",
            "Epoch 9/40\n",
            "3/3 [==============================] - 0s 94ms/step - loss: 0.0235 - accuracy: 0.5467\n",
            "Epoch 10/40\n",
            "3/3 [==============================] - 0s 44ms/step - loss: 0.0218 - accuracy: 0.5291\n",
            "Epoch 11/40\n",
            "3/3 [==============================] - 0s 44ms/step - loss: 0.0204 - accuracy: 0.5598\n",
            "Epoch 12/40\n",
            "3/3 [==============================] - 0s 43ms/step - loss: 0.0186 - accuracy: 0.5922\n",
            "Epoch 13/40\n",
            "3/3 [==============================] - 0s 41ms/step - loss: 0.0181 - accuracy: 0.6086\n",
            "Epoch 14/40\n",
            "3/3 [==============================] - 0s 42ms/step - loss: 0.0155 - accuracy: 0.5858\n",
            "Epoch 15/40\n",
            "3/3 [==============================] - 0s 42ms/step - loss: 0.0153 - accuracy: 0.6072\n",
            "Epoch 16/40\n",
            "3/3 [==============================] - 0s 39ms/step - loss: 0.0148 - accuracy: 0.6146\n",
            "Epoch 17/40\n",
            "3/3 [==============================] - 0s 43ms/step - loss: 0.0142 - accuracy: 0.6409\n",
            "Epoch 18/40\n",
            "3/3 [==============================] - 0s 39ms/step - loss: 0.0137 - accuracy: 0.6027\n",
            "Epoch 19/40\n",
            "3/3 [==============================] - 0s 44ms/step - loss: 0.0121 - accuracy: 0.6292\n",
            "Epoch 20/40\n",
            "3/3 [==============================] - 0s 37ms/step - loss: 0.0118 - accuracy: 0.6349\n",
            "Epoch 21/40\n",
            "3/3 [==============================] - 0s 44ms/step - loss: 0.0131 - accuracy: 0.6381\n",
            "Epoch 22/40\n",
            "3/3 [==============================] - 0s 42ms/step - loss: 0.0162 - accuracy: 0.6412\n",
            "Epoch 23/40\n",
            "3/3 [==============================] - 0s 45ms/step - loss: 0.0137 - accuracy: 0.6219\n",
            "Epoch 24/40\n",
            "3/3 [==============================] - 0s 45ms/step - loss: 0.0121 - accuracy: 0.6535\n",
            "Epoch 25/40\n",
            "3/3 [==============================] - 0s 41ms/step - loss: 0.0119 - accuracy: 0.6525\n",
            "Epoch 26/40\n",
            "3/3 [==============================] - 0s 39ms/step - loss: 0.0124 - accuracy: 0.6355\n",
            "Epoch 27/40\n",
            "3/3 [==============================] - 0s 44ms/step - loss: 0.0110 - accuracy: 0.6571\n",
            "Epoch 28/40\n",
            "3/3 [==============================] - 0s 45ms/step - loss: 0.0114 - accuracy: 0.6585\n",
            "Epoch 29/40\n",
            "3/3 [==============================] - 0s 45ms/step - loss: 0.0098 - accuracy: 0.6583\n",
            "Epoch 30/40\n",
            "3/3 [==============================] - 0s 45ms/step - loss: 0.0103 - accuracy: 0.6712\n",
            "Epoch 31/40\n",
            "3/3 [==============================] - 0s 44ms/step - loss: 0.0097 - accuracy: 0.6622\n",
            "Epoch 32/40\n",
            "3/3 [==============================] - 0s 44ms/step - loss: 0.0089 - accuracy: 0.6791\n",
            "Epoch 33/40\n",
            "3/3 [==============================] - 0s 44ms/step - loss: 0.0090 - accuracy: 0.6853\n",
            "Epoch 34/40\n",
            "3/3 [==============================] - 0s 44ms/step - loss: 0.0087 - accuracy: 0.7195\n",
            "Epoch 35/40\n",
            "3/3 [==============================] - 0s 42ms/step - loss: 0.0079 - accuracy: 0.7101\n",
            "Epoch 36/40\n",
            "3/3 [==============================] - 0s 42ms/step - loss: 0.0086 - accuracy: 0.6845\n",
            "Epoch 37/40\n",
            "3/3 [==============================] - 0s 40ms/step - loss: 0.0104 - accuracy: 0.7260\n",
            "Epoch 38/40\n",
            "3/3 [==============================] - 0s 46ms/step - loss: 0.0091 - accuracy: 0.7219\n",
            "Epoch 39/40\n",
            "3/3 [==============================] - 0s 42ms/step - loss: 0.0085 - accuracy: 0.7145\n",
            "Epoch 40/40\n",
            "3/3 [==============================] - 0s 41ms/step - loss: 0.0083 - accuracy: 0.7412\n"
          ],
          "name": "stdout"
        },
        {
          "output_type": "execute_result",
          "data": {
            "text/plain": [
              "<tensorflow.python.keras.callbacks.History at 0x7f4d4c04cba8>"
            ]
          },
          "metadata": {
            "tags": []
          },
          "execution_count": 7
        }
      ]
    },
    {
      "cell_type": "markdown",
      "metadata": {
        "id": "PT2l1c-SAaF4"
      },
      "source": [
        "## Model evaluation\n",
        "\n",
        "You can use this code to test your model locally before uploading to the grader. To pass, your model needs to satisfy these two requirements:\n",
        "\n",
        "* loss must be less than 0.01 \n",
        "* accuracy must be greater than 0.6"
      ]
    },
    {
      "cell_type": "code",
      "metadata": {
        "id": "vFncgqahSQhA",
        "colab": {
          "base_uri": "https://localhost:8080/"
        },
        "outputId": "f264e17b-ed95-4397-f699-905674b5bffe"
      },
      "source": [
        "result = model.evaluate(test_dataset, steps=10)"
      ],
      "execution_count": 11,
      "outputs": [
        {
          "output_type": "stream",
          "text": [
            "10/10 [==============================] - 0s 21ms/step - loss: 0.0079 - accuracy: 0.7195\n"
          ],
          "name": "stdout"
        }
      ]
    },
    {
      "cell_type": "markdown",
      "metadata": {
        "id": "di6VOHGwIsVM"
      },
      "source": [
        "If you did some visualization like in the ungraded labs, then you might see something like the gallery below. This part is not required."
      ]
    },
    {
      "cell_type": "markdown",
      "metadata": {
        "id": "wmpI4skkIA5L"
      },
      "source": [
        "<img src=\"https://drive.google.com/uc?export=view&id=12Fy-guiP-3tTPfc9IV2nHhqLvs7LwRo6\" width=\"75%\" height=\"75%\"/>"
      ]
    },
    {
      "cell_type": "markdown",
      "metadata": {
        "id": "uaRSkQPNAPT0"
      },
      "source": [
        "## Save your model\n",
        "\n",
        "Once you are satisfied with the results, you can now save your model. Please download it from the Files window on the left and go back to the Submission portal in Coursera for grading."
      ]
    },
    {
      "cell_type": "code",
      "metadata": {
        "id": "pLFpLP-c7rDR"
      },
      "source": [
        "model.save('mymodel.h5')"
      ],
      "execution_count": 12,
      "outputs": []
    },
    {
      "cell_type": "markdown",
      "metadata": {
        "id": "QArMiXJTDxDe"
      },
      "source": [
        "**Congratulations on completing this week's assignment!**"
      ]
    }
  ]
}